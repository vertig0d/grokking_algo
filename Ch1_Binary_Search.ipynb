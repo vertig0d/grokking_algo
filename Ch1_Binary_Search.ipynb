{
  "nbformat": 4,
  "nbformat_minor": 0,
  "metadata": {
    "colab": {
      "provenance": [],
      "toc_visible": true,
      "include_colab_link": true
    },
    "kernelspec": {
      "name": "python3",
      "display_name": "Python 3"
    },
    "language_info": {
      "name": "python"
    }
  },
  "cells": [
    {
      "cell_type": "markdown",
      "metadata": {
        "id": "view-in-github",
        "colab_type": "text"
      },
      "source": [
        "<a href=\"https://colab.research.google.com/github/vertig0d/grokking_algo/blob/main/Ch1_Binary_Search.ipynb\" target=\"_parent\"><img src=\"https://colab.research.google.com/assets/colab-badge.svg\" alt=\"Open In Colab\"/></a>"
      ]
    },
    {
      "cell_type": "markdown",
      "source": [
        "# Binary Search\n",
        "\n",
        "\n",
        "*   Eliminates half numbers every time.\n",
        "*   Takes Logₘ n steps to run in worst case. (where m = 2)\n",
        "*   Logs are inverse of exponentials. 2ᵐ = 8 → logₙ 8 = 3\n",
        "<br>(where m = 3 & n = 2)\n",
        "*   Binary Search *always* takes a sorted array.\n",
        "\n",
        "\n",
        "\n",
        "\n",
        "\n"
      ],
      "metadata": {
        "id": "qOVNXAV4pJX-"
      }
    },
    {
      "cell_type": "markdown",
      "source": [
        "### Python implementation"
      ],
      "metadata": {
        "id": "fQNgP8MGzaLI"
      }
    },
    {
      "cell_type": "code",
      "source": [
        "def binary_searcher(arr, item):\n",
        "  print('start')\n",
        "  low = 0\n",
        "  high = len(arr) - 1\n",
        "  while low <= high:\n",
        "    mid = (low + high) //2\n",
        "    guess = arr[mid]\n",
        "\n",
        "    #when the current index value matches the item to find\n",
        "    if item == guess:\n",
        "      return mid\n",
        "    #when the value of guess is smaller than the value to find, we update the\n",
        "    #low to the mid + 1 index value\n",
        "    elif guess < item:\n",
        "      low = mid + 1\n",
        "    #similar to the prev. if the guess is more than the value, we change the\n",
        "    #high value\n",
        "    else:\n",
        "      high = mid - 1\n",
        "  return None\n",
        "\n",
        "\n",
        "arr = [1,2,3,4,5,6,7]\n",
        "print(binary_searcher(arr, 3))\n",
        "print(binary_searcher(arr, 0))"
      ],
      "metadata": {
        "colab": {
          "base_uri": "https://localhost:8080/"
        },
        "id": "WVvpVwQFzUbS",
        "outputId": "1ddd609e-8cae-4855-c7e2-af48c3dd172e"
      },
      "execution_count": null,
      "outputs": [
        {
          "output_type": "stream",
          "name": "stdout",
          "text": [
            "start\n",
            "2\n",
            "start\n",
            "None\n"
          ]
        }
      ]
    },
    {
      "cell_type": "markdown",
      "source": [
        "# Big O\n",
        "Big O tells the worst-case run time.\n",
        "Some common Big O runtimes:\n",
        "* O(log n): Log time, the fastest eg. Binary Search\n",
        "* O(n): Linear time eg. Simple Search\n",
        "* O(n log n): Fast sorting Algo eg. Quick sort\n",
        "* O(n^2): Slow sorting Algo eg. Selection Sort\n",
        "* O(n!): Really slow Algo eg. Travelling Salesman\n",
        "\n"
      ],
      "metadata": {
        "id": "gjQqWfACkhbC"
      }
    }
  ]
}