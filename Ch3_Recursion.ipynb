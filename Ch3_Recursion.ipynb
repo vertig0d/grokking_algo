{
  "nbformat": 4,
  "nbformat_minor": 0,
  "metadata": {
    "colab": {
      "provenance": [],
      "include_colab_link": true
    },
    "kernelspec": {
      "name": "python3",
      "display_name": "Python 3"
    },
    "language_info": {
      "name": "python"
    }
  },
  "cells": [
    {
      "cell_type": "markdown",
      "metadata": {
        "id": "view-in-github",
        "colab_type": "text"
      },
      "source": [
        "<a href=\"https://colab.research.google.com/github/vertig0d/grokking_algo/blob/main/Ch3_Recursion.ipynb\" target=\"_parent\"><img src=\"https://colab.research.google.com/assets/colab-badge.svg\" alt=\"Open In Colab\"/></a>"
      ]
    },
    {
      "cell_type": "markdown",
      "source": [
        "# Recursion\n",
        "Where a function calls itself, the main advantage of recursion is readability.\n",
        "\n",
        "### Base Case and Recursive Case\n",
        "* Recursive case: where the function calls itself\n",
        "* Base case: where the function doesnt call iteslf"
      ],
      "metadata": {
        "id": "uMmbWIRuxVoe"
      }
    },
    {
      "cell_type": "markdown",
      "source": [
        "### Example of Recursion.\n",
        "Find the factorial"
      ],
      "metadata": {
        "id": "6R5VFlIj39-Y"
      }
    },
    {
      "cell_type": "code",
      "execution_count": 2,
      "metadata": {
        "id": "QjH5qm0XjcOh",
        "outputId": "611f9e17-62fb-4ffa-eda5-8767d9ed1574",
        "colab": {
          "base_uri": "https://localhost:8080/"
        }
      },
      "outputs": [
        {
          "output_type": "stream",
          "name": "stdout",
          "text": [
            "24\n"
          ]
        }
      ],
      "source": [
        "def fact(num):\n",
        "  if num == 1:\n",
        "    return 1\n",
        "  else:\n",
        "    return num * fact(num - 1)\n",
        "\n",
        "print(fact(4))"
      ]
    }
  ]
}