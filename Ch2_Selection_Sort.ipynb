{
  "nbformat": 4,
  "nbformat_minor": 0,
  "metadata": {
    "colab": {
      "provenance": [],
      "include_colab_link": true
    },
    "kernelspec": {
      "name": "python3",
      "display_name": "Python 3"
    },
    "language_info": {
      "name": "python"
    }
  },
  "cells": [
    {
      "cell_type": "markdown",
      "metadata": {
        "id": "view-in-github",
        "colab_type": "text"
      },
      "source": [
        "<a href=\"https://colab.research.google.com/github/vertig0d/grokking_algo/blob/main/Ch2_Selection_Sort.ipynb\" target=\"_parent\"><img src=\"https://colab.research.google.com/assets/colab-badge.svg\" alt=\"Open In Colab\"/></a>"
      ]
    },
    {
      "cell_type": "markdown",
      "source": [
        "# Array vs Linked List\n",
        "* Array:   \n",
        "\n",
        "1.   Sequential address in memory is allocated and used to save the values.\n",
        "2.   Reading an element takes O(1), since we already know the index, also\n",
        "known as Random Access.\n",
        "3.   Inserting a new element takes O(n), as all the index value after needs to\n",
        "be pushed by 1\n",
        "4. Deletion is similar to insertion hence O(n). Note that insertion might\n",
        "fail is no memory left unlike deletion.\n",
        "\n",
        "\n",
        "* Linked List:\n",
        "\n",
        "1.   Random address location is used, each address stores the next\n",
        "  elements address location.\n",
        "2.   Reading take O(n) since to read the value all the elements prior needs to\n",
        "  be traversed, also called Sequential Access.\n",
        "3. Inserting a new elemet is only O(1) as only the address of the next element\n",
        "needs to be changed\n",
        "4. Deletion is O(1)\n",
        "\n"
      ],
      "metadata": {
        "id": "ivXSiOBoKvHf"
      }
    },
    {
      "cell_type": "markdown",
      "source": [
        "# Selection Sort\n",
        "Suppose we have a list of n most played songs and we need to sort in a descending order. First we find the most played song and compare to all the\n",
        "elements. Then the next and then next, until all the elements are sorted.\n",
        "This process needs to be done n times to compare the most played song with all\n",
        "the elements, next do this process for all the n elements. This comes to\n",
        "O(n * n) = O(n^2)"
      ],
      "metadata": {
        "id": "BG0ncI6vW2rH"
      }
    },
    {
      "cell_type": "markdown",
      "source": [
        "## Python Implemetation"
      ],
      "metadata": {
        "id": "UZgF9Av9Y8d_"
      }
    },
    {
      "cell_type": "code",
      "execution_count": 4,
      "metadata": {
        "id": "QjH5qm0XjcOh",
        "outputId": "04d61726-1c8f-4843-c014-82c5c354c57e",
        "colab": {
          "base_uri": "https://localhost:8080/"
        }
      },
      "outputs": [
        {
          "output_type": "stream",
          "name": "stdout",
          "text": [
            "3\n"
          ]
        }
      ],
      "source": [
        "def find_smallest(arr):\n",
        "  smallest = arr[0]\n",
        "  smallest_index = 0\n",
        "  for i in range(1, len(arr)):\n",
        "    if arr[i] < smallest:\n",
        "      smallest = arr[i]\n",
        "      smallest_index = i\n",
        "  return smallest_index\n",
        "l = [4,3,2,1]\n",
        "print(find_smallest(l))"
      ]
    },
    {
      "cell_type": "code",
      "source": [
        "def selection_srt(arr):\n",
        "  new_arr = []\n",
        "  for i in range(len(arr)):\n",
        "    new_arr.append(arr.pop(find_smallest(arr)))\n",
        "  return new_arr\n",
        "lst = [4,3,2,1]\n",
        "selection_srt(lst)"
      ],
      "metadata": {
        "id": "hFpVKtENc1Gb",
        "outputId": "af6c3ee6-a986-4949-ed82-f90c7d97709b",
        "colab": {
          "base_uri": "https://localhost:8080/"
        }
      },
      "execution_count": 7,
      "outputs": [
        {
          "output_type": "execute_result",
          "data": {
            "text/plain": [
              "[1, 2, 3, 4]"
            ]
          },
          "metadata": {},
          "execution_count": 7
        }
      ]
    }
  ]
}