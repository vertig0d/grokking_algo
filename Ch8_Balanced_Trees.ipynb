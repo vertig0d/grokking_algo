{
  "nbformat": 4,
  "nbformat_minor": 0,
  "metadata": {
    "colab": {
      "provenance": [],
      "include_colab_link": true
    },
    "kernelspec": {
      "name": "python3",
      "display_name": "Python 3"
    },
    "language_info": {
      "name": "python"
    }
  },
  "cells": [
    {
      "cell_type": "markdown",
      "metadata": {
        "id": "view-in-github",
        "colab_type": "text"
      },
      "source": [
        "<a href=\"https://colab.research.google.com/github/vertig0d/grokking_algo/blob/main/Ch8_Balanced_Trees.ipynb\" target=\"_parent\"><img src=\"https://colab.research.google.com/assets/colab-badge.svg\" alt=\"Open In Colab\"/></a>"
      ]
    },
    {
      "cell_type": "markdown",
      "source": [
        "### Recap\n",
        "<p>* Binary search has O(log n) while searching but for insertion of new element has O(n). <br>\n",
        "* Linked List has O(1) for insertion (also known as linear time) but searching takes O(n). <br>\n",
        "* A balanced <b>Binary Search Tree</b> is best of both, has search speed of <em>O(Log n) </em> and new insertion is faster than O(n).<br></p>\n",
        "\n",
        ""
      ],
      "metadata": {
        "id": "Er4qgdI-1c38"
      }
    },
    {
      "cell_type": "markdown",
      "source": [
        "### Binary Search Tree (BST)\n",
        "- Has left child is always smaller than the node and right child is always greater than the node. Also all the subtrees of left child are smaller than the node.\n",
        "- Suppose the BST is unbalanced, then the performance can be as worse as a linked list.\n",
        "\n",
        "### AVL Trees\n",
        "- Self balancing BST, so maintains O(Log n)."
      ],
      "metadata": {
        "id": "qo37byjZ64BC"
      }
    },
    {
      "cell_type": "code",
      "execution_count": null,
      "metadata": {
        "id": "QjH5qm0XjcOh"
      },
      "outputs": [],
      "source": []
    }
  ]
}