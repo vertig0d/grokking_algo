{
  "nbformat": 4,
  "nbformat_minor": 0,
  "metadata": {
    "colab": {
      "provenance": [],
      "include_colab_link": true
    },
    "kernelspec": {
      "name": "python3",
      "display_name": "Python 3"
    },
    "language_info": {
      "name": "python"
    }
  },
  "cells": [
    {
      "cell_type": "markdown",
      "metadata": {
        "id": "view-in-github",
        "colab_type": "text"
      },
      "source": [
        "<a href=\"https://colab.research.google.com/github/vertig0d/grokking_algo/blob/main/Ch7_Trees.ipynb\" target=\"_parent\"><img src=\"https://colab.research.google.com/assets/colab-badge.svg\" alt=\"Open In Colab\"/></a>"
      ]
    },
    {
      "cell_type": "markdown",
      "source": [
        "# Trees\n",
        "* Trees are a type of graph, made of edges and nodes.\n",
        "* Rooted trees (talked mostly in this chapter), have one node that leads to\n",
        "all other nodes.\n",
        "* Nodes have at most one parent. The only node with no parent is called Root.\n",
        "* Nodes with no children are called Leaf Nodes\n",
        "* File directory is an example of trees"
      ],
      "metadata": {
        "id": "S-g_veB7IWA1"
      }
    },
    {
      "cell_type": "markdown",
      "source": [
        "### Print name of every file in a directory, including subdirectories."
      ],
      "metadata": {
        "id": "bb2TTtP_fsUT"
      }
    },
    {
      "cell_type": "code",
      "execution_count": 24,
      "metadata": {
        "id": "QjH5qm0XjcOh",
        "colab": {
          "base_uri": "https://localhost:8080/"
        },
        "outputId": "97f773e2-62fd-4286-a5a0-e2f0f759552f"
      },
      "outputs": [
        {
          "output_type": "stream",
          "name": "stdout",
          "text": [
            "['.config', 'sample_data']\n"
          ]
        }
      ],
      "source": [
        "import os\n",
        "print(os.listdir())"
      ]
    },
    {
      "cell_type": "code",
      "source": [
        "from os import listdir\n",
        "from collections import deque\n",
        "from os.path import isfile, join\n",
        "\n",
        "def printnames(pth):\n",
        "  search_queue = deque()\n",
        "  search_queue.append(pth)\n",
        "  while search_queue:\n",
        "    dir = search_queue.popleft()\n",
        "    for file in sorted(listdir(dir)):\n",
        "      full_path = join(dir, file)\n",
        "      if isfile(full_path):\n",
        "        print(full_path)\n",
        "      else:\n",
        "        search_queue.append(full_path)\n",
        "\n",
        "printnames('.config')"
      ],
      "metadata": {
        "id": "8IM4GcfA0ZO3",
        "outputId": "d856718a-a1d4-4aec-840e-6d5e79200c56",
        "colab": {
          "base_uri": "https://localhost:8080/"
        }
      },
      "execution_count": 6,
      "outputs": [
        {
          "output_type": "stream",
          "name": "stdout",
          "text": [
            ".config/.last_opt_in_prompt.yaml\n",
            ".config/.last_survey_prompt.yaml\n",
            ".config/.last_update_check.json\n",
            ".config/active_config\n",
            ".config/config_sentinel\n",
            ".config/default_configs.db\n",
            ".config/gce\n",
            ".config/hidden_gcloud_config_universe_descriptor_data_cache_configs.db\n",
            ".config/configurations/config_default\n",
            ".config/logs/2025.07.18/13.37.26.715641.log\n",
            ".config/logs/2025.07.18/13.37.56.494776.log\n",
            ".config/logs/2025.07.18/13.38.05.160246.log\n",
            ".config/logs/2025.07.18/13.38.12.656589.log\n",
            ".config/logs/2025.07.18/13.38.21.846801.log\n",
            ".config/logs/2025.07.18/13.38.22.588490.log\n"
          ]
        }
      ]
    },
    {
      "cell_type": "code",
      "source": [],
      "metadata": {
        "id": "L0PUSVrjTvKY"
      },
      "execution_count": null,
      "outputs": []
    }
  ]
}