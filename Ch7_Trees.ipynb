{
  "nbformat": 4,
  "nbformat_minor": 0,
  "metadata": {
    "colab": {
      "provenance": [],
      "include_colab_link": true
    },
    "kernelspec": {
      "name": "python3",
      "display_name": "Python 3"
    },
    "language_info": {
      "name": "python"
    }
  },
  "cells": [
    {
      "cell_type": "markdown",
      "metadata": {
        "id": "view-in-github",
        "colab_type": "text"
      },
      "source": [
        "<a href=\"https://colab.research.google.com/github/vertig0d/grokking_algo/blob/main/Ch7_Trees.ipynb\" target=\"_parent\"><img src=\"https://colab.research.google.com/assets/colab-badge.svg\" alt=\"Open In Colab\"/></a>"
      ]
    },
    {
      "cell_type": "markdown",
      "source": [
        "# Trees\n",
        "* Trees are a type of graph, made of edges and nodes.\n",
        "* Rooted trees (talked mostly in this chapter), have one node that leads to\n",
        "all other nodes.\n",
        "* Nodes have at most one parent. The only node with no parent is called Root.\n",
        "* Nodes with no children are called Leaf Nodes\n",
        "* File directory is an example of trees"
      ],
      "metadata": {
        "id": "S-g_veB7IWA1"
      }
    },
    {
      "cell_type": "code",
      "execution_count": null,
      "metadata": {
        "id": "QjH5qm0XjcOh"
      },
      "outputs": [],
      "source": []
    }
  ]
}