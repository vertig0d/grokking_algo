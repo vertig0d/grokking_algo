{
  "nbformat": 4,
  "nbformat_minor": 0,
  "metadata": {
    "colab": {
      "provenance": [],
      "include_colab_link": true
    },
    "kernelspec": {
      "name": "python3",
      "display_name": "Python 3"
    },
    "language_info": {
      "name": "python"
    }
  },
  "cells": [
    {
      "cell_type": "markdown",
      "metadata": {
        "id": "view-in-github",
        "colab_type": "text"
      },
      "source": [
        "<a href=\"https://colab.research.google.com/github/vertig0d/grokking_algo/blob/main/Ch6_Breadth-First_Search.ipynb\" target=\"_parent\"><img src=\"https://colab.research.google.com/assets/colab-badge.svg\" alt=\"Open In Colab\"/></a>"
      ]
    },
    {
      "cell_type": "markdown",
      "source": [
        "# Breadth First Search"
      ],
      "metadata": {
        "id": "5hSzeHjE0OeQ"
      }
    },
    {
      "cell_type": "markdown",
      "source": [
        "### Python Code"
      ],
      "metadata": {
        "id": "AFcjZ7PA0gtC"
      }
    },
    {
      "cell_type": "code",
      "execution_count": 5,
      "metadata": {
        "id": "QjH5qm0XjcOh",
        "outputId": "1903763f-b3b4-4129-cb42-dd7ddc6a9f46",
        "colab": {
          "base_uri": "https://localhost:8080/"
        }
      },
      "outputs": [
        {
          "output_type": "stream",
          "name": "stdout",
          "text": [
            "thom\n"
          ]
        }
      ],
      "source": [
        "#import deque from collections\n",
        "from collections import deque\n",
        "\n",
        "graph = {}\n",
        "graph['you'] = ['alice', 'bob', 'claire']\n",
        "graph[\"bob\"] = [\"anuj\", \"peggy\"]\n",
        "graph[\"alice\"] = [\"peggy\"]\n",
        "graph[\"claire\"] = [\"thom\", \"jonny\"]\n",
        "graph[\"anuj\"] = []\n",
        "graph[\"peggy\"] = []\n",
        "graph[\"thom\"] = []\n",
        "graph[\"jonny\"] = []\n",
        "\n",
        "search_queue = deque()\n",
        "search_queue += graph['you']\n",
        "\n",
        "lst_done = []\n",
        "\n",
        "while search_queue:\n",
        "  person = search_queue.popleft()\n",
        "  if person not in lst_done:\n",
        "    if person[-1:] == 'm':\n",
        "      print(person)\n",
        "    else:\n",
        "      lst_done.append(person)\n",
        "      search_queue += graph[person]\n",
        "\n",
        "\n",
        "# print(search_queue)"
      ]
    }
  ]
}